{
 "cells": [
  {
   "cell_type": "code",
   "execution_count": 11,
   "metadata": {
    "collapsed": false
   },
   "outputs": [
    {
     "name": "stdout",
     "output_type": "stream",
     "text": [
      "Populating the interactive namespace from numpy and matplotlib\n"
     ]
    },
    {
     "ename": "TypeError",
     "evalue": "unsupported operand type(s) for +: 'NoneType' and 'str'",
     "output_type": "error",
     "traceback": [
      "\u001b[1;31m---------------------------------------------------------------------------\u001b[0m",
      "\u001b[1;31mTypeError\u001b[0m                                 Traceback (most recent call last)",
      "\u001b[1;32m<ipython-input-11-455d82d55521>\u001b[0m in \u001b[0;36m<module>\u001b[1;34m()\u001b[0m\n\u001b[0;32m      9\u001b[0m \u001b[1;32mimport\u001b[0m \u001b[0mjson\u001b[0m\u001b[1;33m\u001b[0m\u001b[0m\n\u001b[0;32m     10\u001b[0m \u001b[1;32mimport\u001b[0m \u001b[0mos\u001b[0m\u001b[1;33m\u001b[0m\u001b[0m\n\u001b[1;32m---> 11\u001b[1;33m \u001b[0ms\u001b[0m\u001b[1;33m=\u001b[0m\u001b[0mjson\u001b[0m\u001b[1;33m.\u001b[0m\u001b[0mload\u001b[0m\u001b[1;33m(\u001b[0m\u001b[0mopen\u001b[0m\u001b[1;33m(\u001b[0m\u001b[0mos\u001b[0m\u001b[1;33m.\u001b[0m\u001b[0mgetenv\u001b[0m\u001b[1;33m(\u001b[0m\u001b[1;34m'PUI2015'\u001b[0m\u001b[1;33m)\u001b[0m\u001b[1;33m+\u001b[0m\u001b[1;34m'/fbb_matplotlibrc.json'\u001b[0m\u001b[1;33m)\u001b[0m\u001b[1;33m)\u001b[0m\u001b[1;33m\u001b[0m\u001b[0m\n\u001b[0m\u001b[0;32m     12\u001b[0m \u001b[0mpl\u001b[0m\u001b[1;33m.\u001b[0m\u001b[0mrcParams\u001b[0m\u001b[1;33m.\u001b[0m\u001b[0mupdate\u001b[0m\u001b[1;33m(\u001b[0m\u001b[0ms\u001b[0m\u001b[1;33m)\u001b[0m\u001b[1;33m\u001b[0m\u001b[0m\n",
      "\u001b[1;31mTypeError\u001b[0m: unsupported operand type(s) for +: 'NoneType' and 'str'"
     ]
    }
   ],
   "source": [
    "from __future__ import print_function\n",
    "__author__ = 'fmz'\n",
    "\n",
    "import pylab as pl\n",
    "import numpy as np\n",
    "%pylab inline\n",
    "\n",
    "import pylab as pl\n",
    "import json\n",
    "import os\n",
    "s=json.load(open(os.getenv('PUI2015')+'/fbb_matplotlibrc.json'))\n",
    "pl.rcParams.update(s)"
   ]
  },
  {
   "cell_type": "code",
   "execution_count": 5,
   "metadata": {
    "collapsed": false
   },
   "outputs": [],
   "source": [
    "mymean = 100\n",
    "distribuition = {}\n",
    "distribuition['chisq'] = np.random.chisquare(mymean,100)\n"
   ]
  },
  {
   "cell_type": "code",
   "execution_count": 10,
   "metadata": {
    "collapsed": false
   },
   "outputs": [
    {
     "data": {
      "text/plain": [
       "(array([  8.,  10.,  10.,  21.,  19.,   9.,  12.,   5.,   2.,   4.]),\n",
       " array([  72.58752493,   78.64538234,   84.70323975,   90.76109715,\n",
       "          96.81895456,  102.87681197,  108.93466937,  114.99252678,\n",
       "         121.05038419,  127.10824159,  133.166099  ]),\n",
       " <a list of 10 Patch objects>)"
      ]
     },
     "execution_count": 10,
     "metadata": {},
     "output_type": "execute_result"
    },
    {
     "data": {
      "image/png": "[encoded data removed]",
      "text/plain": [
       "<matplotlib.figure.Figure at 0x3d95ef0>"
      ]
     },
     "metadata": {},
     "output_type": "display_data"
    }
   ],
   "source": [
    "pl.hist(distribuition['chisq'])"
   ]
  },
  {
   "cell_type": "code",
   "execution_count": 12,
   "metadata": {
    "collapsed": false
   },
   "outputs": [
    {
     "name": "stdout",
     "output_type": "stream",
     "text": [
      "98.4930274893\n",
      "13.418744788\n"
     ]
    }
   ],
   "source": [
    "print (distribuition['chisq'].mean())\n",
    "print (distribuition['chisq'].std())\n"
   ]
  },
  {
   "cell_type": "code",
   "execution_count": 18,
   "metadata": {
    "collapsed": false
   },
   "outputs": [
    {
     "name": "stdout",
     "output_type": "stream",
     "text": [
      "[1818 1666 1538 1428 1333 1250 1176 1111 1052 1000  952  909  869  833  800\n",
      "  769  740  714  689  666  645  625  606  588  571  555  540  526  512  500\n",
      "  487  476  465  454  444  434  425  416  408  400  392  384  377  370  363\n",
      "  357  350  344  338  333  327  322  317  312  307  303  298  294  289  285\n",
      "  281  277  273  270  266  263  259  256  253  250  246  243  240  238  235\n",
      "  232  229  227  224  222  219  217  215  212  210  208  206  204  202]\n"
     ]
    }
   ],
   "source": [
    "mysizes=20000/(np.array(range(1,90))+[10])\n",
    "print (mysizes)"
   ]
  },
  {
   "cell_type": "code",
   "execution_count": null,
   "metadata": {
    "collapsed": true
   },
   "outputs": [],
   "source": [
    "distribuition={'chisq':{}}\n",
    "for n in mysizes:\n",
    "    distribuition['chisq']{n} = np.random.chisquare{mymean,n}\n",
    "    "
   ]
  },
  {
   "cell_type": "code",
   "execution_count": 30,
   "metadata": {
    "collapsed": false
   },
   "outputs": [
    {
     "ename": "SyntaxError",
     "evalue": "invalid syntax (<ipython-input-30-5590f8ac53bb>, line 9)",
     "output_type": "error",
     "traceback": [
      "\u001b[1;36m  File \u001b[1;32m\"<ipython-input-30-5590f8ac53bb>\"\u001b[1;36m, line \u001b[1;32m9\u001b[0m\n\u001b[1;33m    axchisq_mu_n.set_xlabel('sample size')\u001b[0m\n\u001b[1;37m               ^\u001b[0m\n\u001b[1;31mSyntaxError\u001b[0m\u001b[1;31m:\u001b[0m invalid syntax\n"
     ]
    }
   ],
   "source": [
    "means = {}\n",
    "means['chisq']={}\n",
    "\n",
    "fig_mu_N=pl.figure(figsize=(10,10))\n",
    "axchisq_mu_n = fig_mu_N.add_subplot(1,1,1)\n",
    "\n",
    "for nn in distribuition['chisq']:\n",
    "        axchisq_mu_n.plot(nn,distribuition['chisq'][nn].mean(),'o')\n",
    "        axchisq_mu_n.set_xlabel('sample size')\n",
    "        axchisq_mu_n.set_ylabel('sample size')\n",
    "        axchisq_mu_n.plot([min(mysizes)],max(mysizes),[mymean,mymean],'k')\n"
   ]
  },
  {
   "cell_type": "code",
   "execution_count": null,
   "metadata": {
    "collapsed": true
   },
   "outputs": [],
   "source": []
  }
 ],
 "metadata": {
  "kernelspec": {
   "display_name": "Python 2",
   "language": "python",
   "name": "python2"
  },
  "language_info": {
   "codemirror_mode": {
    "name": "ipython",
    "version": 2
   },
   "file_extension": ".py",
   "mimetype": "text/x-python",
   "name": "python",
   "nbconvert_exporter": "python",
   "pygments_lexer": "ipython2",
   "version": "2.7.9"
  }
 },
 "nbformat": 4,
 "nbformat_minor": 0
}
