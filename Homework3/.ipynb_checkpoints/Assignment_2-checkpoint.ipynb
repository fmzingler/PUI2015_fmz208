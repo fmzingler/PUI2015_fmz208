{
 "cells": [
  {
   "cell_type": "code",
   "execution_count": 1,
   "metadata": {
    "collapsed": false
   },
   "outputs": [
    {
     "name": "stdout",
     "output_type": "stream",
     "text": [
      "0.277796505653\n",
      "0.272 409 564 0.0322832705591\n",
      "0.309757959054\n",
      "0.3783\n",
      "is the p value 0.38 smaller than the critical value 0.05? \n",
      "NO!\n",
      "the Null hypothesis is not rejected\n",
      "1.18168904069e-05\n"
     ]
    }
   ],
   "source": [
    "from __future__ import print_function\n",
    "__author__= 'fmz'\n",
    "\n",
    "import numpy as np\n",
    "\n",
    "alpha=0.05\n",
    "#we like fractions better then percentages. as a rule of thumb, either use fractions or counts\n",
    "var0=27.2\n",
    "var1=28.2\n",
    "P_0=var0*0.01 \n",
    "P_1=var1*0.01\n",
    "\n",
    "n_0=409\n",
    "n_1=564\n",
    "\n",
    "#lets get the counts by multiplying by the sample size\n",
    "Nt_0=P_0*n_0\n",
    "Nt_1=P_1*n_1\n",
    "\n",
    "#define the sample proportion first\n",
    "sp=(P_0*n_0+P_1*n_1)/(n_1+n_0)\n",
    "print (sp)\n",
    "\n",
    "\n",
    "# i am goonna create a little one line function to calculate the standard dev, it is not really needed, but just to show you how you do such a thing\n",
    "sp_stdev= lambda p, n: np.sqrt( p * ( 1 - p ) /n[0] +  p * ( 1 - p )/n[1]  )\n",
    "\n",
    "\n",
    "sp_stdev_2y=sp_stdev((P_0+P_1),[n_0,n_1])\n",
    "\n",
    "print (P_0, n_0, n_1, sp_stdev_2y)\n",
    "\n",
    "\n",
    "zscore = lambda p0, p1, s : (p0-p1)/s\n",
    "z_2y = zscore(P_1, P_0, sp_stdev_2y)\n",
    "print (z_2y)\n",
    "\n",
    "p_2y=1-0.6217\n",
    "\n",
    "print (p_2y)\n",
    "\n",
    "def report_result(p,a):\n",
    "    print ('is the p value {0:.2f} smaller than the critical value {1:.2f}? '.format(p,a))\n",
    "    if p<a:\n",
    "        print (\"YES!\")\n",
    "    else: print (\"NO!\")\n",
    "    \n",
    "    print ('the Null hypothesis is {}'.format( 'rejected' if p<a  else 'not rejected') )\n",
    "\n",
    "    \n",
    "report_result(p_2y,alpha)\n",
    "\n",
    "\n",
    "Ntot = 973\n",
    "expected = 564*409*270.296*702.704\n",
    "sample_values = [[var0*5.64,(1-var0)*5.64],[var1*4.09,(1-var1)*4.09]]\n",
    " \n",
    "chisqstat= lambda N, values, expect : N*((values[0][0]*values[1][1]-values[0][1]*values[1][0])**2)/(expect)\n",
    "\n",
    "print (chisqstat(Ntot,  sample_values, expected))"
   ]
  },
  {
   "cell_type": "code",
   "execution_count": null,
   "metadata": {
    "collapsed": true
   },
   "outputs": [],
   "source": []
  }
 ],
 "metadata": {
  "kernelspec": {
   "display_name": "Python 2",
   "language": "python",
   "name": "python2"
  },
  "language_info": {
   "codemirror_mode": {
    "name": "ipython",
    "version": 2
   },
   "file_extension": ".py",
   "mimetype": "text/x-python",
   "name": "python",
   "nbconvert_exporter": "python",
   "pygments_lexer": "ipython2",
   "version": "2.7.9"
  }
 },
 "nbformat": 4,
 "nbformat_minor": 0
}
